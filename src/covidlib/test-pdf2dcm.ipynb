{
 "cells": [
  {
   "cell_type": "code",
   "execution_count": 5,
   "metadata": {},
   "outputs": [],
   "source": [
    "import pydicom\n",
    "import tempfile\n",
    "import datetime\n",
    "from pydicom.dataset import Dataset, FileDataset\n",
    "\n",
    "def generate_dicom_from_pdf(pdf_file):\n",
    "    suffix = '.dcm'\n",
    "    filename = tempfile.NamedTemporaryFile(suffix=suffix).name\n",
    "\n",
    "    file_meta = Dataset()\n",
    "    file_meta.MediaStorageSOPClassUID = '1.2.840.10008.5.1.4.1.1.104.1'\n",
    "    file_meta.MediaStorageSOPInstanceUID = '2.16.840.1.114430.287196081618142314176776725491661159509.60.1'\n",
    "    file_meta.ImplementationClassUID = '1.3.46.670589.50.1.8.0'\n",
    "    file_meta.TransferSyntaxUID = '1.2.840.10008.1.2.1'\n",
    "\n",
    "    ds = FileDataset(filename, {},\n",
    "                 file_meta=file_meta, preamble=b\"\\0\" * 128)\n",
    "\n",
    "    ds.is_little_endian = True\n",
    "    ds.is_implicit_VR = False\n",
    "\n",
    "    dt = datetime.datetime.now()\n",
    "    ds.ContentDate = dt.strftime('%Y%m%d')\n",
    "    timeStr = dt.strftime('%H%M%S.%f')\n",
    "    ds.ContentTime = timeStr\n",
    "\n",
    "    ds.SOPClassUID = '1.2.840.10008.5.1.4.1.1.104.1'\n",
    "\n",
    "    with open(pdf_file, 'rb') as f:\n",
    "        f_read = f.read()\n",
    "        ValueLength = len(f_read)\n",
    "        ## All Dicom Element must have an even ValueLength\n",
    "        if ValueLength % 2 != 0:\n",
    "            f_read += b'\\0'\n",
    "        ds.EncapsulatedDocument = f_read\n",
    "\n",
    "    ds.MIMETypeOfEncapsulatedDocument = 'application/pdf'\n",
    "\n",
    "    ds.Modality = 'DOC' #secondary capture\n",
    "    ds.ConversionType = 'WSD' #workstation\n",
    "    ds.SpecificCharacterSet = 'ISO_IR 100' \n",
    "    # more codes for charecter encoding here https://dicom.innolitics.com/ciods/cr-image/sop-common/00080005 \n",
    "\n",
    "    return ds"
   ]
  },
  {
   "cell_type": "code",
   "execution_count": 6,
   "metadata": {},
   "outputs": [],
   "source": [
    "import argparse\n",
    "import datetime\n",
    "\n",
    "def generate_random_uid():\n",
    "    return '1.9.9.' + str(datetime.datetime.now().strftime('%H%M%S%f%d%m%Y'))\n",
    "\n",
    "def main(input_pdf):\n",
    "\n",
    "    e_pdf_ds = generate_dicom_from_pdf(input_pdf)\n",
    "\n",
    "    e_pdf_ds.PatientName = 'John Doe'\n",
    "    e_pdf_ds.PatientID = '12345'\n",
    "    e_pdf_ds.PatientSex = 'M'\n",
    "    e_pdf_ds.StudyInstanceUID = generate_random_uid()\n",
    "\n",
    "    e_pdf_ds.SeriesInstanceUID = generate_random_uid()\n",
    "    e_pdf_ds.SOPInstanceUID = generate_random_uid() \n",
    "\n",
    "    e_pdf_ds.save_as('/Users/andreasala/Desktop/pippo.dcm')"
   ]
  },
  {
   "cell_type": "code",
   "execution_count": 7,
   "metadata": {},
   "outputs": [],
   "source": [
    "main('/Users/andreasala/Desktop/pippo.pdf')"
   ]
  },
  {
   "cell_type": "code",
   "execution_count": null,
   "metadata": {},
   "outputs": [],
   "source": []
  },
  {
   "cell_type": "code",
   "execution_count": 21,
   "metadata": {},
   "outputs": [
    {
     "name": "stdout",
     "output_type": "stream",
     "text": [
      "/Users/andreasala/Desktop/dummy.dcm\n"
     ]
    }
   ],
   "source": [
    "from pdf2dcm import Pdf2EncapsDCM\n",
    "\n",
    "converter = Pdf2EncapsDCM()\n",
    "converted_dcm = converter.run(path_pdf='/Users/andreasala/Desktop/dummy.pdf',\n",
    "                     #path_template_dcm='/Users/andreasala/Desktop/Tesi/data/COVID-NOCOVID/2020019001_103984788_Torace3.0Bl571/CT/00240001.dcm',\n",
    "                     suffix =\".dcm\")\n",
    "print(converted_dcm)\n",
    "# tests/test_data/test_file'"
   ]
  },
  {
   "cell_type": "code",
   "execution_count": 19,
   "metadata": {},
   "outputs": [
    {
     "ename": "TypeError",
     "evalue": "Can't instantiate abstract class BaseConverter with abstract method run",
     "output_type": "error",
     "traceback": [
      "\u001b[0;31m---------------------------------------------------------------------------\u001b[0m",
      "\u001b[0;31mTypeError\u001b[0m                                 Traceback (most recent call last)",
      "\u001b[1;32m/Users/andreasala/Desktop/Tesi/covid-classifier/src/covidlib/test-pdf2dcm.ipynb Cell 6'\u001b[0m in \u001b[0;36m<cell line: 4>\u001b[0;34m()\u001b[0m\n\u001b[1;32m      <a href='vscode-notebook-cell:/Users/andreasala/Desktop/Tesi/covid-classifier/src/covidlib/test-pdf2dcm.ipynb#ch0000005?line=0'>1</a>\u001b[0m \u001b[39mimport\u001b[39;00m \u001b[39mpdf2dcm\u001b[39;00m\n\u001b[1;32m      <a href='vscode-notebook-cell:/Users/andreasala/Desktop/Tesi/covid-classifier/src/covidlib/test-pdf2dcm.ipynb#ch0000005?line=1'>2</a>\u001b[0m \u001b[39mfrom\u001b[39;00m \u001b[39mpdf2dcm\u001b[39;00m\u001b[39m.\u001b[39;00m\u001b[39mbase\u001b[39;00m \u001b[39mimport\u001b[39;00m BaseConverter\n\u001b[0;32m----> <a href='vscode-notebook-cell:/Users/andreasala/Desktop/Tesi/covid-classifier/src/covidlib/test-pdf2dcm.ipynb#ch0000005?line=3'>4</a>\u001b[0m converter \u001b[39m=\u001b[39m BaseConverter()\n\u001b[1;32m      <a href='vscode-notebook-cell:/Users/andreasala/Desktop/Tesi/covid-classifier/src/covidlib/test-pdf2dcm.ipynb#ch0000005?line=4'>5</a>\u001b[0m converted_dcm \u001b[39m=\u001b[39m converter\u001b[39m.\u001b[39mrun(path_pdf\u001b[39m=\u001b[39m\u001b[39m'\u001b[39m\u001b[39m/Users/andreasala/Desktop/dummy.pdf\u001b[39m\u001b[39m'\u001b[39m,\n\u001b[1;32m      <a href='vscode-notebook-cell:/Users/andreasala/Desktop/Tesi/covid-classifier/src/covidlib/test-pdf2dcm.ipynb#ch0000005?line=5'>6</a>\u001b[0m                      \u001b[39m#path_template_dcm='/Users/andreasala/Desktop/Tesi/data/COVID-NOCOVID/2020019001_103984788_Torace3.0Bl571/CT/00240001.dcm',\u001b[39;00m\n\u001b[1;32m      <a href='vscode-notebook-cell:/Users/andreasala/Desktop/Tesi/covid-classifier/src/covidlib/test-pdf2dcm.ipynb#ch0000005?line=6'>7</a>\u001b[0m                      suffix \u001b[39m=\u001b[39m\u001b[39m\"\u001b[39m\u001b[39m.dcm\u001b[39m\u001b[39m\"\u001b[39m)\n\u001b[1;32m      <a href='vscode-notebook-cell:/Users/andreasala/Desktop/Tesi/covid-classifier/src/covidlib/test-pdf2dcm.ipynb#ch0000005?line=7'>8</a>\u001b[0m \u001b[39mprint\u001b[39m(converted_dcm)\n",
      "\u001b[0;31mTypeError\u001b[0m: Can't instantiate abstract class BaseConverter with abstract method run"
     ]
    }
   ],
   "source": [
    "import pdf2dcm\n",
    "from pdf2dcm.base import BaseConverter\n",
    "\n",
    "converter = BaseConverter()\n",
    "converted_dcm = converter.run(path_pdf='/Users/andreasala/Desktop/dummy.pdf',\n",
    "                     #path_template_dcm='/Users/andreasala/Desktop/Tesi/data/COVID-NOCOVID/2020019001_103984788_Torace3.0Bl571/CT/00240001.dcm',\n",
    "                     suffix =\".dcm\")\n",
    "print(converted_dcm)"
   ]
  },
  {
   "cell_type": "code",
   "execution_count": null,
   "metadata": {},
   "outputs": [],
   "source": []
  }
 ],
 "metadata": {
  "interpreter": {
   "hash": "04357b15df10cc0cd898e190efa5f78c4e064604f23503c04044438f0ad15e5a"
  },
  "kernelspec": {
   "display_name": "Python 3.10.4 ('rad')",
   "language": "python",
   "name": "python3"
  },
  "language_info": {
   "codemirror_mode": {
    "name": "ipython",
    "version": 3
   },
   "file_extension": ".py",
   "mimetype": "text/x-python",
   "name": "python",
   "nbconvert_exporter": "python",
   "pygments_lexer": "ipython3",
   "version": "3.10.4"
  },
  "orig_nbformat": 4
 },
 "nbformat": 4,
 "nbformat_minor": 2
}
